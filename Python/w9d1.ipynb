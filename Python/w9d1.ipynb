{
 "cells": [
  {
   "cell_type": "code",
   "execution_count": null,
   "id": "186e0d23-85ae-42af-aa77-ac82079eac9d",
   "metadata": {
    "editable": true,
    "slideshow": {
     "slide_type": ""
    },
    "tags": []
   },
   "outputs": [],
   "source": [
    "Task Algoritmi ESERCIZIO -----1\n",
    "-Passeggiare con il cane- 1\n",
    "\n",
    "1-Mettere le Scarpe (INPUT)\n",
    "2-Prendere il guinzaglio \n",
    "3-Controllare se ci sono sacchetti\n",
    "SE ci sono continuare\n",
    "ALTRIMENTI rifornire di sacchetti\n",
    "4-prendere le chiavi\n",
    "5-aprire il cancello e porta\n",
    "6-uscire (OUTPUT)\n",
    "\n",
    "\n",
    "-Prendere il caffe nel distributore- 2\n",
    "\n",
    "1-Recarsi al distributore (INPUT)\n",
    "2-Prendere la chiave\n",
    "3-Controllare se ci sono i soldi\n",
    "SE ci sono eseguire prossimo passo\n",
    "ALTRIMENTI inserire le monete\n",
    "4-Selezionare il tipo di bevanda desiderata\n",
    "5-Prendere la bevanda dal distributore (OUTPUT)\n",
    "\n",
    "\n",
    "-Stampare un documento- 3\n",
    "1-Verificare che la stampante sia accesa (INPUT)\n",
    "SE accesa passare alla prossima fase\n",
    "ALTRIMENTI accendere la stampante\n",
    "2-Selezionare il documento nel dispositivo\n",
    "3-Controllare che ci sia foglio sufficiente\n",
    "SE presente continuare\n",
    "ALTRIMENTI inserire i fogli\n",
    "4-Inviare la richiesta di stampa alla stampante\n",
    "5-attendere e ritirare il documento (OUTPUT)"
   ]
  },
  {
   "cell_type": "code",
   "execution_count": 35,
   "id": "d2b37580-f11a-4710-a698-3c9e39c3a123",
   "metadata": {
    "editable": true,
    "slideshow": {
     "slide_type": ""
    },
    "tags": []
   },
   "outputs": [
    {
     "name": "stdout",
     "output_type": "stream",
     "text": [
      "25\n",
      "28\n",
      "Epicode\n",
      "36\n",
      "Lunghezze: 7 5 10 4\n",
      "La quantita di secondi in un anno non bisestile e' pari a: 31536000\n",
      "               I AM STUDYING PYTHON\n",
      "               i am studying python\n",
      "               I am studying a lot\n",
      "I am studying Python\n",
      "['I', 'am', 'studying', 'Python']\n",
      "['giovanni']\n"
     ]
    }
   ],
   "source": [
    "#ESERCIZIO -----2\n",
    "#variabile = 25 (studenti)\n",
    "studenti = 25\n",
    "\n",
    "#stamparla a video\n",
    "print(studenti)\n",
    "\n",
    "#arrivano altri 3 studenti, memorizzare in un'ALTRA variabile\n",
    "nuovi_studenti = 3\n",
    "\n",
    "#Creare un'altra variabile ancora che conterrà la somma delle prime due, poi stamparla a video\n",
    "studenti_totale = studenti + nuovi_studenti\n",
    "print(studenti_totale)\n",
    "\n",
    "#Creare una variabile che contiene la stringa \"Epicode\", quindi stamparla a video\n",
    "brand1 = \"Epicode\"\n",
    "print(brand1)\n",
    "\n",
    "#Abbiamo la variabile x=10,Incrementarla di 2 e poi moltiplicarla per 3\n",
    "x = 10\n",
    "print((x+2)*3)\n",
    "\n",
    "#Creiamo le seguenti stringhe, e per ognuna di esse verifichiamone la lunghezza con la funzione len():\n",
    "#• str1 = \"Windows\" • str2 = \"Excel\" • str3 = \"Powerpoint\" • str4 = \"Word\"\n",
    "str1 = \"Windows\"\n",
    "str2 = \"Excel\"\n",
    "str3 = \"Powerpoint\"\n",
    "str4 = \"Word\"\n",
    "print(\"Lunghezze:\",len(str1),len(str2),len(str3),len(str4))\n",
    "\n",
    "#Calcolare e stampare a video quanti secondi ci sono in un anno non bisestile.\n",
    "#anno=365giorni giorno=24ore ore=60min min=60sec\n",
    "secondi = 365*24*60*60\n",
    "print(\"La quantita di secondi in un anno non bisestile e' pari a:\",secondi)\n",
    "\n",
    "\n",
    "#• Trasformarla in modo che tutti i caratteri siano maiuscoli (uppercase) \n",
    "#• Trasformarla in modo che tutti i caratteri siano minuscoli (lowercase) \n",
    "#• Sostituire la sottostringa \"Python\" con la stringa \"a lot\" \n",
    "#• Usare il metodo .strip(); cambia qualcosa? Perché? \n",
    "#• Usare il metodo .split() per trovare tutte le parole (token)\n",
    "\n",
    "my_string = \"               I am studying Python\"\n",
    "print(my_string.upper())\n",
    "print(my_string.lower())\n",
    "print(my_string.replace(\"Python\",\"a lot\"))\n",
    "print(my_string.strip()) #la funziona strip mi sembra che sia un'operazione simile al \"taglio\" in excel, ovvero rimuove gli spazi all'inizio e alla fine\n",
    "print(my_string.split())\n",
    "varchar = \"giovanni\" #ho fatto un'altro esempio per capire meglio lo split, avevo il duppio che prendesse anche le 'lettere'\n",
    "print(varchar.split())"
   ]
  },
  {
   "cell_type": "code",
   "execution_count": 47,
   "id": "8daa3e44-ff22-4696-ad91-bfb1370322e9",
   "metadata": {},
   "outputs": [
    {
     "name": "stdout",
     "output_type": "stream",
     "text": [
      "['Alex', 'Bob', 'Cindy', 'Dan', 'Emma', 'Faith', 'Grace', 'Henry'] \n",
      " ['Cybersecurity', 'Data Analyst', 'Backend', 'Frontend', 'Data Analyst', 'Backend', 'Frontend', 'Cybersecurity']\n"
     ]
    }
   ],
   "source": [
    "studenti = [\"Alex\", \"Bob\", \"Cindy\", \"Dan\", \"Emma\", \"Faith\", \"Grace\", \"Henry\"] \n",
    "corsi = [\"Cybersecurity\", \"Data Analyst\", \"Backend\", \"Frontend\", \"Data Analyst\", \"Backend\"]\n",
    "\n",
    "#teniamo in considerazione:\n",
    "#Emma segue Data Analyst \n",
    "#Faith segue Backend \n",
    "#Grace segue Frontend \n",
    "#Henry segue Cybersecurity \n",
    "#AGGIUNGERE I DATI CHE MANCANO NELLA LISTA\n",
    "\n",
    "corsi.append(\"Frontend\")\n",
    "corsi.append(\"Cybersecurity\")\n",
    "\n",
    "print(studenti,\"\\n\",corsi)\n"
   ]
  },
  {
   "cell_type": "code",
   "execution_count": null,
   "id": "eba021ee-0b8d-4022-a7a1-d140943a93b5",
   "metadata": {},
   "outputs": [],
   "source": []
  }
 ],
 "metadata": {
  "kernelspec": {
   "display_name": "Python [conda env:base] *",
   "language": "python",
   "name": "conda-base-py"
  },
  "language_info": {
   "codemirror_mode": {
    "name": "ipython",
    "version": 3
   },
   "file_extension": ".py",
   "mimetype": "text/x-python",
   "name": "python",
   "nbconvert_exporter": "python",
   "pygments_lexer": "ipython3",
   "version": "3.12.7"
  }
 },
 "nbformat": 4,
 "nbformat_minor": 5
}
