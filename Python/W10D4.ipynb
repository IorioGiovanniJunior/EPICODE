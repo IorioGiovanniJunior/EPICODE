{
 "cells": [
  {
   "cell_type": "code",
   "execution_count": null,
   "id": "fd24651a-4a25-4d51-a53e-533bbd091008",
   "metadata": {},
   "outputs": [],
   "source": [
    "!pip install pymysql"
   ]
  },
  {
   "cell_type": "code",
   "execution_count": null,
   "id": "5b48c629-676c-4978-b89c-d336108f5840",
   "metadata": {},
   "outputs": [],
   "source": [
    "import os\n",
    "import dotenv\n",
    "import sqlalchemy\n",
    "import pandas as pd\n",
    "\n",
    "dotenv.load_dotenv(dotenv_path=\"cred.env\", override=True)\n",
    "\n",
    "username = os.getenv(\"username\")\n",
    "password = os.getenv(\"password\")\n",
    "host = os.getenv(\"host\")\n",
    "dbname = os.getenv(\"dbname\")\n",
    "\n",
    "connection_string = f\"mysql+pymysql://{username}:{password}@{host}/{dbname}\"\n",
    "print(connection_string)\n",
    "\n",
    "db_engine = sqlalchemy.create_engine(connection_string)"
   ]
  },
  {
   "cell_type": "code",
   "execution_count": null,
   "id": "c2ecedc7-a936-4b08-a17c-281ad845bcfc",
   "metadata": {},
   "outputs": [],
   "source": [
    "query = \"SELECT * FROM dimproduct\"\n",
    "df = pd.read_sql(query, db_engine)"
   ]
  },
  {
   "cell_type": "code",
   "execution_count": null,
   "id": "b02ccda1-f58b-48c5-8079-377d32fe9b14",
   "metadata": {},
   "outputs": [],
   "source": [
    "print(f\"in totale ci sono:{df.shape} righe e colonne\") #Quanti dati ci sono in totale?\n",
    "print(\"i metadati sono:\")\n",
    "#Quali sono i metadati?\n",
    "print(df.info())"
   ]
  },
  {
   "cell_type": "code",
   "execution_count": null,
   "id": "1e2c3cdb-910e-4f37-b0c4-97eb8bd09031",
   "metadata": {},
   "outputs": [],
   "source": [
    "df.head(1) #stampiamo il primo elemento:"
   ]
  },
  {
   "cell_type": "code",
   "execution_count": null,
   "id": "11c885aa-ed7a-4381-8a0f-af26a1c8d0ea",
   "metadata": {},
   "outputs": [],
   "source": [
    "df.tail(1) #stampiamo l'ultimo elemento"
   ]
  },
  {
   "cell_type": "code",
   "execution_count": null,
   "id": "c7848b27-14b5-432b-a3d9-6b478feb5901",
   "metadata": {},
   "outputs": [],
   "source": [
    "df.sample(5) #stampiamo 5 elementi random"
   ]
  },
  {
   "cell_type": "code",
   "execution_count": null,
   "id": "89946bcb-16a3-497c-be90-cf9e913baa15",
   "metadata": {},
   "outputs": [],
   "source": [
    "df[\"Color\"].unique()#colori disponibili"
   ]
  },
  {
   "cell_type": "code",
   "execution_count": null,
   "id": "cc8fc888-341f-40af-8a70-d40e74c2d54b",
   "metadata": {},
   "outputs": [],
   "source": [
    "df[\"Weight\"].mean() #media del peso"
   ]
  },
  {
   "cell_type": "code",
   "execution_count": null,
   "id": "b7d04d5d-cc21-4fc8-8956-dc52842182c2",
   "metadata": {},
   "outputs": [],
   "source": [
    "df[\"Weight\"].min()#piu leggero"
   ]
  },
  {
   "cell_type": "code",
   "execution_count": null,
   "id": "759cd666-ae69-4e30-996c-638f7d71da0b",
   "metadata": {},
   "outputs": [],
   "source": [
    "df[\"Weight\"].max()#piu pesante"
   ]
  },
  {
   "cell_type": "code",
   "execution_count": null,
   "id": "02b46220-0a32-4eb3-abf2-4791aa8b1d85",
   "metadata": {},
   "outputs": [],
   "source": [
    "df[df[\"Weight\"]>100].shape[0]#quanti prodotti pesano piu di 100, shape ci da riga e colonna con [0] mi restituisce solo il numero di righe"
   ]
  },
  {
   "cell_type": "code",
   "execution_count": null,
   "id": "e6eafe89-3399-40fa-8a8b-29f626b5f204",
   "metadata": {},
   "outputs": [],
   "source": [
    "df[\"DealerPrice\"].mean() #quanto costano in media i prodotti"
   ]
  },
  {
   "cell_type": "code",
   "execution_count": null,
   "id": "cf7ae64a-8420-4137-a6d9-b507885f52ea",
   "metadata": {},
   "outputs": [],
   "source": [
    "df[\"DealerPrice\"].describe() #quartili"
   ]
  },
  {
   "cell_type": "code",
   "execution_count": null,
   "id": "411d493c-0a1c-4070-b1de-d7b964006b35",
   "metadata": {},
   "outputs": [],
   "source": [
    "df[df[\"Color\"] == \"Blue\"][\"DealerPrice\"].mean() #prezzo medio dei prodotti color blu"
   ]
  },
  {
   "cell_type": "code",
   "execution_count": null,
   "id": "8b95066f-7159-48cd-a563-b5ef7fe8ca41",
   "metadata": {},
   "outputs": [],
   "source": [
    "#Qual è il prezzo medio per i prodotti di colore rosso o nero?\n",
    "df[(df[\"Color\"]==\"Red\") | (df[\"Color\"]==\"Black\")][\"DealerPrice\"].mean()"
   ]
  },
  {
   "cell_type": "code",
   "execution_count": null,
   "id": "82d50153-8699-41d7-ac55-c53e0b93bbf0",
   "metadata": {},
   "outputs": [],
   "source": [
    "#Qual è il prezzo massimo per i prodotti di taglia 42 e peso oltre i 10 Kg?\n",
    "df[(df[\"Weight\"]>10) & (df[\"Size\"] == \"42\")][\"DealerPrice\"].max()"
   ]
  },
  {
   "cell_type": "code",
   "execution_count": null,
   "id": "c6162a1d-d50f-4432-8d9e-5a0425cbe1df",
   "metadata": {},
   "outputs": [],
   "source": [
    "#Qual è il nome inglese e il costo di produzione (StandardCost) di tutti i prodotti di taglia 42, peso oltre i 10 Kg e colore argento?\n",
    "df[(df[\"Weight\"]>10) & (df[\"Size\"] == \"42\") & (df[\"Color\"] == \"Silver\")][[\"EnglishProductName\",\"StandardCost\"]]"
   ]
  },
  {
   "cell_type": "code",
   "execution_count": null,
   "id": "727a4b8d-0404-450e-8c5b-a564a82d8932",
   "metadata": {},
   "outputs": [],
   "source": [
    "#Visualizziamo lo StandardCost e il DealerPrice degli ultimi 20 elementi del dataset:\n",
    "#quali sono le differenze? C'è un pattern? C'è qualche elemento che non lo segue?\n",
    "\n",
    "df.tail(20).loc[:,[\"StandardCost\",\"DealerPrice\"]]\n",
    "\n",
    "#Ci aspettiamo che standardcost sia piu grande di dealerprice tranne che per gli ultimi prodotti\n"
   ]
  },
  {
   "cell_type": "code",
   "execution_count": null,
   "id": "ce3dc415-c651-4b65-93af-567051b2c1cb",
   "metadata": {},
   "outputs": [],
   "source": [
    "amazon = pd.read_csv(\"Datasets/amazon.csv\")\n",
    "amazon"
   ]
  },
  {
   "cell_type": "code",
   "execution_count": null,
   "id": "4aed9d4f-7e39-4dea-83d7-3949984b3241",
   "metadata": {},
   "outputs": [],
   "source": [
    "amazon.shape #dimensione del file"
   ]
  },
  {
   "cell_type": "code",
   "execution_count": null,
   "id": "a32ce547-7c88-4060-a2a9-01bd1dc7d500",
   "metadata": {},
   "outputs": [],
   "source": [
    "amazon.sample(10) #dieci righe a caso"
   ]
  },
  {
   "cell_type": "code",
   "execution_count": null,
   "id": "40ab84e7-80f0-4fa0-bb4e-40cc00c71b79",
   "metadata": {},
   "outputs": [],
   "source": [
    "amazon.columns #osserviamo i nomi di colonna"
   ]
  },
  {
   "cell_type": "code",
   "execution_count": null,
   "id": "0edfa8a9-6441-4550-8b52-16747d8b98d4",
   "metadata": {},
   "outputs": [],
   "source": [
    "amazon[\"Positive\"].value_counts() #contiamo le recensione\n",
    "#solo circa 1/4 delle recensione sono negative"
   ]
  },
  {
   "cell_type": "code",
   "execution_count": null,
   "id": "51f761d7-8bab-444c-a698-a0ebf6e4ccac",
   "metadata": {},
   "outputs": [],
   "source": [
    "diabetes = pd.read_csv(\"Datasets/diabetes.csv\")"
   ]
  },
  {
   "cell_type": "code",
   "execution_count": null,
   "id": "5dcda7b7-7698-4c7f-ad8f-d508016261f2",
   "metadata": {},
   "outputs": [],
   "source": [
    "#Osserviamone le dimensioni e un'anteprima di cinque righe\n",
    "print(diabetes.shape)\n",
    "diabetes.head(5)"
   ]
  },
  {
   "cell_type": "code",
   "execution_count": null,
   "id": "3acc95ce-a853-460b-8761-0cf4f0f43f11",
   "metadata": {},
   "outputs": [],
   "source": [
    "diabetes.describe() #descrittori statistici"
   ]
  },
  {
   "cell_type": "code",
   "execution_count": null,
   "id": "3dbacdab-a9a7-497a-b805-7d9e49ceff57",
   "metadata": {},
   "outputs": [],
   "source": [
    "#Selezioniamo i dati relativi a diverse fasce di età: 20-29, 30-39, 40-50\n",
    "\n",
    "fascia_20_29 = diabetes[(diabetes[\"Age (years)\"]>=20) & (diabetes[\"Age (years)\"] <=29)]\n",
    "fascia_30_39 = diabetes[(diabetes[\"Age (years)\"]>=30) & (diabetes[\"Age (years)\"] <=39)]\n",
    "fascia_40_50 = diabetes[(diabetes[\"Age (years)\"]>=40) & (diabetes[\"Age (years)\"] <=50)]\n",
    "\n",
    "media_pressione = {\n",
    "    \"20-29\": fascia_20_29[\"Diastolic blood pressure (mm Hg)\"].mean(),\n",
    "    \"30-39\": fascia_30_39[\"Diastolic blood pressure (mm Hg)\"].mean(),\n",
    "    \"40-50\": fascia_40_50[\"Diastolic blood pressure (mm Hg)\"].mean()\n",
    "}\n",
    "\n",
    "print(pd.Series(media_pressione))"
   ]
  },
  {
   "cell_type": "code",
   "execution_count": null,
   "id": "603c3612-d42a-451b-85c6-94d299fafb3f",
   "metadata": {},
   "outputs": [],
   "source": [
    "insurance = pd.read_csv(\"Datasets/insurance.csv\")\n",
    "print(insurance.shape) #dimensione\n",
    "print()\n",
    "print(insurance.head()) #anteprima di 5 righe\n",
    "print()\n",
    "print(insurance.columns) #tipo di colonne"
   ]
  },
  {
   "cell_type": "code",
   "execution_count": null,
   "id": "6adf5e97-b343-466d-b6ef-299fdbe8fc2b",
   "metadata": {},
   "outputs": [],
   "source": [
    "print(insurance.groupby(\"region\")[\"charges\"].mean()) #medie di charges rispetto a region\n",
    "print()\n",
    "print(\"Nelle medie in questione non ci sono differenze significative, sulla parte southeast costa un 'po' di piu ma nulla di eccessivo\")"
   ]
  },
  {
   "cell_type": "code",
   "execution_count": null,
   "id": "c05abec5-4b5f-431c-b578-49a86dc41ff1",
   "metadata": {},
   "outputs": [],
   "source": [
    "print(insurance.groupby(\"sex\")[\"charges\"].mean()) #differenza di 'polizza' in base a sesso\n",
    "print()\n",
    "print(\"Neanche in base a sesso ci sono delle grandi differenze\")"
   ]
  },
  {
   "cell_type": "code",
   "execution_count": null,
   "id": "378433f3-194b-40d1-a06e-d74ef4bbcfa5",
   "metadata": {},
   "outputs": [],
   "source": [
    "print(insurance.groupby(\"smoker\")[\"charges\"].mean())\n",
    "print()\n",
    "print(\"In base a 'smoker' ci sono grandi differenza, il che e' giusto.\")"
   ]
  },
  {
   "cell_type": "code",
   "execution_count": null,
   "id": "a4dc1bfc-ce06-4f04-8264-521c5e7af713",
   "metadata": {},
   "outputs": [],
   "source": [
    "insurance.describe() #vediamo le statistic con 'describe'"
   ]
  },
  {
   "cell_type": "code",
   "execution_count": null,
   "id": "c07869cf-31ec-45f8-bbcd-dc64057de5bc",
   "metadata": {},
   "outputs": [],
   "source": [
    "import pandas as pd\n",
    "import numpy as np\n",
    "pokemon = pd.read_csv(\"Datasets/pokemon.csv\")"
   ]
  },
  {
   "cell_type": "code",
   "execution_count": null,
   "id": "f2ea1bc2-221a-429d-86d3-b465b87559c1",
   "metadata": {},
   "outputs": [],
   "source": [
    "print(pokemon.shape) #verifichiamo il numero di colonne e righe\n",
    "print()\n",
    "print(pokemon.columns.tolist()) #visualizziamo le colonne\n",
    "pokemon.sample(5) #facciamo un'anteprima"
   ]
  },
  {
   "cell_type": "code",
   "execution_count": null,
   "id": "c41468d3-4ceb-429b-bd8c-23b63148485b",
   "metadata": {},
   "outputs": [],
   "source": [
    "pokemon.rename(columns={\"#\": \"PokemonID\"}, inplace=True) #cambio il nome '#' per PokemonID"
   ]
  },
  {
   "cell_type": "code",
   "execution_count": null,
   "id": "91742467-1eb1-490c-99d1-8babc915ae20",
   "metadata": {},
   "outputs": [],
   "source": [
    "pokemon.set_index(\"PokemonID\", inplace=True) #Imposta indice prima colonna"
   ]
  },
  {
   "cell_type": "code",
   "execution_count": null,
   "id": "285c43e8-f790-448a-b780-7767401ccf95",
   "metadata": {},
   "outputs": [],
   "source": [
    "pokemon[pokemon[\"Legendary\"] == True] #verifichiamo quali sono i pokemon legendary"
   ]
  },
  {
   "cell_type": "code",
   "execution_count": null,
   "id": "f033c193-db66-4a2e-b125-b2d135be2d8f",
   "metadata": {},
   "outputs": [],
   "source": [
    "pokemon[(pokemon[\"Legendary\"] == True) & (pokemon[\"Type 1\"] == \"Grass\")] #legendary di tipo 1 grass"
   ]
  },
  {
   "cell_type": "code",
   "execution_count": null,
   "id": "d9680a0b-89a5-4718-a6c4-97fc354d1d5a",
   "metadata": {},
   "outputs": [],
   "source": [
    "filtro_legendary = pokemon[\"Legendary\"] == True\n",
    "filtro_type = (pokemon[\"Type 1\"] == \"Ice\") | (pokemon[\"Type 1\"] == \"Fire\")\n",
    "filtro = filtro_type & filtro_legendary\n",
    "pokemon[filtro]\n",
    "pokemon"
   ]
  },
  {
   "cell_type": "code",
   "execution_count": null,
   "id": "2371e6e7-004e-4944-9117-b73ee15a257a",
   "metadata": {},
   "outputs": [],
   "source": [
    "pokemon.set_index(\"Name\", inplace = True) #cambio l'indice a 'Name'"
   ]
  },
  {
   "cell_type": "code",
   "execution_count": null,
   "id": "04db529e-e27b-4d33-a5ab-84ca9def55a5",
   "metadata": {},
   "outputs": [],
   "source": [
    "pokemon[(pokemon[\"Generation\"] == 1) & (pokemon[\"Attack\"] > 50) & (pokemon[\"HP\"] < 60)]"
   ]
  }
 ],
 "metadata": {
  "kernelspec": {
   "display_name": "Python [conda env:base] *",
   "language": "python",
   "name": "conda-base-py"
  },
  "language_info": {
   "codemirror_mode": {
    "name": "ipython",
    "version": 3
   },
   "file_extension": ".py",
   "mimetype": "text/x-python",
   "name": "python",
   "nbconvert_exporter": "python",
   "pygments_lexer": "ipython3",
   "version": "3.12.7"
  }
 },
 "nbformat": 4,
 "nbformat_minor": 5
}
