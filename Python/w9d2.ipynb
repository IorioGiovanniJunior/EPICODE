{
 "cells": [
  {
   "cell_type": "code",
   "execution_count": null,
   "id": "a1232b64-16b8-40a0-8f7e-e83021578a94",
   "metadata": {},
   "outputs": [],
   "source": [
    "#Stampare ogni carattere della stringa, uno su ogni riga, utilizzando un costrutto while.\n",
    "nome_scuola = \"Epicode\"\n",
    "cont = 0\n",
    "lungh = len(nome_scuola)\n",
    "\n",
    "while cont < lungh:\n",
    "    print(nome_scuola[cont])\n",
    "    cont += 1"
   ]
  },
  {
   "cell_type": "code",
   "execution_count": null,
   "id": "f2d82c5c-b46a-4e3f-af98-c692a99ed08e",
   "metadata": {},
   "outputs": [],
   "source": [
    "numero = 0   #variabile di inizio\n",
    "while numero <= 20: #ciclo while\n",
    "    print(numero)  #funzione print per stampare a video\n",
    "    numero += 1   #procedura di incremento"
   ]
  },
  {
   "cell_type": "code",
   "execution_count": null,
   "id": "a1fed66d-a6bd-4536-9ce6-91bdb5f99fc0",
   "metadata": {},
   "outputs": [],
   "source": [
    "potenza = 0\n",
    "while potenza <= 10:\n",
    "    print(2**potenza)\n",
    "    potenza += 1"
   ]
  },
  {
   "cell_type": "code",
   "execution_count": null,
   "id": "26114f59-42ba-4482-9056-505e834fbc91",
   "metadata": {},
   "outputs": [],
   "source": [
    "partenza = 0\n",
    "potenza = int(input(\"inserisci fino a quale potenza vuoi\"))\n",
    "while partenza <= potenza:\n",
    "    print(2**partenza)\n",
    "    partenza += 1"
   ]
  },
  {
   "cell_type": "code",
   "execution_count": null,
   "id": "e88aa406-40e0-419b-93e3-a9b7bb044849",
   "metadata": {},
   "outputs": [],
   "source": [
    "esponente = 0\n",
    "while 2 ** esponente < 25000:\n",
    "    potenza = 2 ** esponente\n",
    "    esponente += 1\n",
    "    print(potenza)"
   ]
  },
  {
   "cell_type": "code",
   "execution_count": null,
   "id": "6992cb82-8082-4e10-b67f-a196f119f1d2",
   "metadata": {},
   "outputs": [],
   "source": [
    "stringa = input(\"inserisci qui la tua stringa:\")\n",
    "lunghezza = len(stringa)\n",
    "\n",
    "if lunghezza >= 6:\n",
    "    risultato = stringa[:3] + \"...\" + stringa [-3:]\n",
    "    \n",
    "elif lunghezza >= 3:\n",
    "    risultato = stringa [:3] + \"...\"\n",
    "\n",
    "else:\n",
    "    risultato = stringa + \"...\"\n",
    "\n",
    "print(\"il tuo id stringa e':\",risultato)"
   ]
  },
  {
   "cell_type": "code",
   "execution_count": 4,
   "id": "3d9427d6-4610-4de1-a955-093b3b2e9495",
   "metadata": {},
   "outputs": [
    {
     "name": "stdin",
     "output_type": "stream",
     "text": [
      "inserisci un numero 150\n"
     ]
    },
    {
     "name": "stdout",
     "output_type": "stream",
     "text": [
      "I divisori sono: [2, 3, 5, 5]\n"
     ]
    }
   ],
   "source": [
    "n = int(input(\"inserisci un numero\"))\n",
    "divisore = 2\n",
    "divisori = []\n",
    "while n > 1:\n",
    "    if n%divisore == 0:\n",
    "        n=n//divisore\n",
    "        divisori.append(divisore)\n",
    "    else:\n",
    "        divisore +=1\n",
    "print(f\"I divisori sono: {divisori}\")"
   ]
  },
  {
   "cell_type": "code",
   "execution_count": null,
   "id": "f4e271af-7743-4b6f-b963-1b6cd78168f5",
   "metadata": {},
   "outputs": [],
   "source": [
    "nome_scuola = \"Epicode\"\n",
    "\n",
    "for lettera in nome_scuola:\n",
    "    print(lettera)"
   ]
  },
  {
   "cell_type": "code",
   "execution_count": null,
   "id": "03180604-2609-47fc-9e6b-0afbb701bdcd",
   "metadata": {},
   "outputs": [],
   "source": [
    "for esponente in range(0,11):\n",
    "    print(\"il risultato di 2 ^\",esponente,\"=\",2**esponente)"
   ]
  },
  {
   "cell_type": "code",
   "execution_count": null,
   "id": "17cd7fbe-96f8-4bad-99fe-37953135412e",
   "metadata": {},
   "outputs": [],
   "source": [
    "#Calcolare (ma non stampare) le prime N potenze di K; ognuna di esse andrà memorizzata in coda a una lista.\n",
    "#Alla fine, stampare la lista risultante. Proviamo con diversi valori di K, oppure facciamola inserire all'utente.\n",
    "#Realizzare due versioni: • con un ciclo while, • con un ciclo for\n",
    "base = int(input(\"inserire la base:\"))\n",
    "potenza = int(input(\"inserire fino a che esponente vuoi:\"))\n",
    "lista = []\n",
    "cont = 0\n",
    "\n",
    "while cont <= potenza:\n",
    "    risultato = base ** cont\n",
    "    cont += 1\n",
    "    lista.append(risultato)\n",
    "\n",
    "print(\"la mia lista =\",lista)"
   ]
  },
  {
   "cell_type": "markdown",
   "id": "a9cdd93c-3f66-4b4e-af5a-2707486db6f4",
   "metadata": {},
   "source": [
    "**la mia lista in while**"
   ]
  },
  {
   "cell_type": "code",
   "execution_count": null,
   "id": "20dee78e-0a5e-4127-b1b9-032700966065",
   "metadata": {},
   "outputs": [],
   "source": [
    "base = int(input(\"inserire la base:\"))\n",
    "potenza = int(input(\"inserire fino a che esponente vuoi:\"))\n",
    "lista = []\n",
    "\n",
    "for numero in range(0,potenza+1):\n",
    "    risultato = base ** numero\n",
    "    lista.append(risultato)\n",
    "\n",
    "print(lista)"
   ]
  },
  {
   "cell_type": "markdown",
   "id": "1a024000-251d-4a9a-bfe1-3c6dd5ce8c61",
   "metadata": {},
   "source": [
    "**La mia lista in ciclo for**"
   ]
  },
  {
   "cell_type": "markdown",
   "id": "db3a3aae-69d4-46f1-b079-847e1d420756",
   "metadata": {},
   "source": [
    "**Esercizio**\n",
    "*Abbiamo una lista con i guadagni degli ultimi 12 mesi: \n",
    "guadagni = [100, 90, 70, 40, 50, 80, 90, 120, 80, 20, 50, 50] \n",
    "usando un costrutto for, calcolare la media dei guadagni e stamparla a video.*"
   ]
  },
  {
   "cell_type": "code",
   "execution_count": null,
   "id": "cffee947-bc93-48d2-b1d3-bee3c5a26793",
   "metadata": {},
   "outputs": [],
   "source": [
    "guadagni = [100, 90, 70, 40, 50, 80, 90, 120, 80, 20, 50, 50]\n",
    "somma = 0\n",
    "len(guadagni)\n",
    "\n",
    "for guadagno in guadagni:\n",
    "    somma += guadagno\n",
    "    media = somma/len(guadagni)\n",
    "print(f\"La media dei guadagni e' {media}\")"
   ]
  },
  {
   "cell_type": "markdown",
   "id": "ec8a5c45-c772-4a9b-b774-1164257f1f53",
   "metadata": {},
   "source": [
    "**Esercizio** \n",
    "*Abbiamo una lista di parole: parole = [\"Albergo\", \"Sedia\", \"Borgo\", \"Petalo\", \"Eremo\", \"Belvedere\", \"Semestre\", \"Esteta\", \"Sosta\", \"Orpello\", \"Abete\", \"Orologio\", \"Cesta\", \"Ermellino\"] \n",
    "stampiamo, per ogni parola, quante volte appare la lettera \"e\"; facciamo attenzione al fatto che appare sia maiuscola che minuscola*"
   ]
  },
  {
   "cell_type": "code",
   "execution_count": null,
   "id": "5f6650f9-1846-4c1e-a553-4e854dceb540",
   "metadata": {},
   "outputs": [],
   "source": [
    "parole = [\"Albergo\", \"Sedia\", \"Borgo\", \"Petalo\", \"Eremo\", \"Belvedere\", \"Semestre\", \"Esteta\", \"Sosta\", \"Orpello\", \"Abete\", \"Orologio\", \"Cesta\", \"Ermellino\"]\n",
    "parole_minuscole = []\n",
    "for parola in parole:\n",
    "    parole_minuscole.append(parola.lower())\n",
    "    \n",
    "for parola in parole_minuscole:\n",
    "    conteggio = parola.count(\"e\")\n",
    "    print(f\"Nella parola {parola} ci sono {conteggio} di lettere E\")\n"
   ]
  },
  {
   "cell_type": "markdown",
   "id": "d8e8de44-62fd-4ffd-91c3-38e1ac94b381",
   "metadata": {},
   "source": [
    "**Esercizio** \n",
    "*Creiamo un dizionario che assegni ad ogni proprietario la sua auto, sapendo che:\n",
    "• Ada guida una Punto • Ben guida una Multipla • Charlie guida una Golf • Debbie guida una 107 \n",
    "Stampiamo il dizionario per intero, e poi l'auto associata a Debbie.*"
   ]
  },
  {
   "cell_type": "code",
   "execution_count": null,
   "id": "2a764aec-cd56-483b-9b5e-181ad1300324",
   "metadata": {},
   "outputs": [],
   "source": [
    "auto = {\n",
    "    \"Ada\":\"Punto\",\n",
    "    \"Ben\":\"Multipla\",\n",
    "    \"Charlie\":\"Golf\",\n",
    "    \"Debbie\":\"107\"\n",
    "}\n",
    "print(auto.items())\n",
    "print()\n",
    "print(f\"debbie ha una: {auto.get(\"Debbie\")}\")"
   ]
  },
  {
   "cell_type": "markdown",
   "id": "878bc105-f073-47aa-9175-4c5c09ce1f39",
   "metadata": {},
   "source": [
    "*Con un ciclo, e usando il metodo .values(), stampiamo a video tutte le auto che non sono una Multipla.*"
   ]
  },
  {
   "cell_type": "code",
   "execution_count": null,
   "id": "bdcb762b-5fc7-4992-b65d-b1074a05e91f",
   "metadata": {},
   "outputs": [],
   "source": [
    "dizionario_auto = {\"Ada\": \"Punto\", \"Ben\": \"Multipla\", \"Charlie\": \"Golf\", \"Debbie\": \"107\"}\n",
    "for veicolo in dizionario_auto.values():\n",
    "    if veicolo != \"Multipla\":\n",
    "        print(veicolo)"
   ]
  },
  {
   "cell_type": "code",
   "execution_count": null,
   "id": "533e0880-b77e-460b-8599-f80b51c8e268",
   "metadata": {},
   "outputs": [],
   "source": [
    "dizionario_auto = {\n",
    "    \"Ada\": \"Punto\",\n",
    "    \"Ben\": \"Multipla\",\n",
    "    \"Charlie\": \"Golf\",\n",
    "    \"Debbie\": \"107\",\n",
    "    \"Emily\": \"A1\"\n",
    "}\n",
    "\n",
    "nuovi_proprietari = {\n",
    "    \"Ben\": \"Polo\",\n",
    "    \"Fred\": \"Octavia\",\n",
    "    \"Grace\": \"Yaris\",\n",
    "    \"Hugh\": \"Clio\"\n",
    "}\n",
    "\n",
    "dizionario_auto.update(nuovi_proprietari)\n",
    "print(dizionario_auto)"
   ]
  },
  {
   "cell_type": "markdown",
   "id": "ead37853-41da-4d59-be30-59a700617a08",
   "metadata": {},
   "source": [
    "*con l'update il dizionario ha sovrascritto la chiave di Ben aggiornando solo il value che e' l'auto associata, in un dizionario la chiave e' sempre una sola*"
   ]
  },
  {
   "cell_type": "code",
   "execution_count": null,
   "id": "70965d4b-50b1-469a-9b5c-ff5463d931b4",
   "metadata": {},
   "outputs": [],
   "source": [
    "esponente = 0\n",
    "while 2 ** esponente < 25000:\n",
    "    potenza = 2 ** esponente\n",
    "    print(potenza)\n",
    "    esponente = esponente + 1"
   ]
  },
  {
   "cell_type": "code",
   "execution_count": null,
   "id": "6f5eabe4-c43c-4f2a-93be-922ae5696320",
   "metadata": {},
   "outputs": [],
   "source": []
  }
 ],
 "metadata": {
  "kernelspec": {
   "display_name": "Python [conda env:base] *",
   "language": "python",
   "name": "conda-base-py"
  },
  "language_info": {
   "codemirror_mode": {
    "name": "ipython",
    "version": 3
   },
   "file_extension": ".py",
   "mimetype": "text/x-python",
   "name": "python",
   "nbconvert_exporter": "python",
   "pygments_lexer": "ipython3",
   "version": "3.12.7"
  }
 },
 "nbformat": 4,
 "nbformat_minor": 5
}
