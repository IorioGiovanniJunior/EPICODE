{
 "cells": [
  {
   "cell_type": "code",
   "execution_count": null,
   "id": "7572750d-1de7-433e-84c5-80a07bb07b17",
   "metadata": {},
   "outputs": [],
   "source": [
    "import pandas as pd\n",
    "import numpy as np\n",
    "import os\n",
    "import dotenv\n",
    "import sqlalchemy"
   ]
  },
  {
   "cell_type": "markdown",
   "id": "fb169d2c-5ac1-4272-b6c4-0c4c7129faab",
   "metadata": {},
   "source": [
    "# PULIZIA MELLUSO"
   ]
  },
  {
   "cell_type": "code",
   "execution_count": null,
   "id": "9da21b05-8363-485c-b147-e880d98a0619",
   "metadata": {},
   "outputs": [],
   "source": [
    "md = pd.read_csv(\"csv/melluso_scraping.csv\") #PATH PER FILE CSV"
   ]
  },
  {
   "cell_type": "code",
   "execution_count": null,
   "id": "da8f5f08-87b2-4148-b87d-6ae4cdc8f417",
   "metadata": {},
   "outputs": [],
   "source": [
    "#RIMOZIONE SIMBOLO E SPAZI,CAMBIO PUNTO IN VIRGOLA, CONVERSIONE IN FLOAT\n",
    "\n",
    "# NORMALIZZA SCONTATO\n",
    "md['scontato'] = pd.to_numeric(\n",
    "    md['prezzo_scontato']\n",
    "    .str.replace(r'[^\\d,]', '', regex=True)\n",
    "    .str.replace(',', '.', regex=False),\n",
    "    errors='coerce'\n",
    ")\n",
    "\n",
    "# NORMALIZZA PREZZO\n",
    "md['prezzo'] = pd.to_numeric(\n",
    "    md['prezzo_originale']\n",
    "    .str.replace(r'[^\\d,]', '', regex=True)\n",
    "    .str.replace(',', '.', regex=False),\n",
    "    errors='coerce'\n",
    ")\n",
    "md[\"genere\"] = md[\"genere_categoria\"] #CAMBIO NOME COLONNE\n",
    "md[\"categoria\"] = md[\"nome_categoria\"] \n",
    "md = md.drop(columns=[\"genere_categoria\",\"nome_categoria\",\"prezzo_originale\",\"prezzo_scontato\",\"immagine\"])\n",
    "#DROP COLONNE CHE NON SERVONO"
   ]
  },
  {
   "cell_type": "code",
   "execution_count": null,
   "id": "2048b522-687b-487c-a433-f4f7e6e61a86",
   "metadata": {},
   "outputs": [],
   "source": [
    "md = md[~md[\"nome\"].str.contains(\"bors\", case=False, na=False)] #CANC ARTICOLO 'BORSA'\n",
    "md = md[~md[\"nome\"].str.contains(\"gift\", case=False, na=False)] #CANC ARTICOLO 'GIFT CARD'"
   ]
  },
  {
   "cell_type": "code",
   "execution_count": null,
   "id": "ebfa2d9b-3cd3-47a8-8263-6b14febe63eb",
   "metadata": {},
   "outputs": [],
   "source": [
    "# MATERIALI DA CERCARE:\n",
    "materiali = ['pelle', 'camoscio', 'intreccio', 'tessut','vernice','nabuck','scamosciato','suede']\n",
    "\n",
    "# FUNZIONE PER ESTRARRE 2 MATERIALI\n",
    "def estrai_materiali2(titolo):\n",
    "    trovati = [mat for mat in materiali if mat in titolo.lower()]\n",
    "    trovati = trovati[:2]  # PRENDI MASSIMO 2 COLORI\n",
    "    # AGGIUNGI NAN SE NON TROVA\n",
    "    while len(trovati) < 2:\n",
    "        trovati.append(None)\n",
    "    return pd.Series(trovati, index=['mat1', 'mat2'])\n",
    "\n",
    "# APPLICHIAMO LA FUNZIONE AL DF\n",
    "md[['mat1', 'mat2']] = md['nome'].apply(estrai_materiali2)"
   ]
  },
  {
   "cell_type": "code",
   "execution_count": null,
   "id": "b9526785-a428-4385-ba6e-f4d98f685ea1",
   "metadata": {},
   "outputs": [],
   "source": [
    "#LISTA COLORI DA CERCARE:\n",
    "colori = [\n",
    "    \"nero\", \"bianco\", \"beige\", \"cuoio\", \"cipria\", \"avorio\", \"platino\", \"argento\",\n",
    "    \"oro\", \"blu\", \"rosso\", \"rosa\", \"verde\", \"viola\", \"lilla\", \"bordeaux\", \"bronzo\",\n",
    "    \"nude\", \"grigio\", \"marrone\", \"multicolore\",\"coloniale\",\"cielo\",\"fondotinta\", \"kiss\",\"latte\",\"macchiato\",\n",
    "    \"denim\",\"navy\",\"giallo\",\"keans\",\"acqua\",\"arancio\"\n",
    "    \n",
    "]\n",
    "#FUNZIONE PER ESTRARRE COLORI\n",
    "def estrai_colori(titolo):\n",
    "    titolo = str(titolo).lower()\n",
    "    trovati = [col for col in colori if col in titolo]\n",
    "    trovati = trovati[:2]  # Prendi massimo 2 colori\n",
    "    while len(trovati) < 2:\n",
    "        trovati.append(None)\n",
    "    return pd.Series(trovati, index=['colore1', 'colore2'])\n",
    "    \n",
    "# APPLICHIAMO LA FUNZIONE\n",
    "md[['colore1', 'colore2']] = md['nome'].apply(estrai_colori)"
   ]
  },
  {
   "cell_type": "code",
   "execution_count": null,
   "id": "591731dd-66b3-440f-9916-05d56fc3b582",
   "metadata": {},
   "outputs": [],
   "source": [
    "#FUNZIONE PER PRENDERE ULTIMA STRINGA RIFERENTE ID\n",
    "def estrai_id_prodotto(titolo):\n",
    "    try:\n",
    "        return str(titolo).strip().split()[-1].lower()\n",
    "    except:\n",
    "        return None\n",
    "\n",
    "md['id_prodotto'] = md['nome'].apply(estrai_id_prodotto)"
   ]
  },
  {
   "cell_type": "code",
   "execution_count": null,
   "id": "11630985-5943-4996-8b78-cfb62fefec4b",
   "metadata": {},
   "outputs": [],
   "source": [
    "md['differenza_prezzo'] = md['prezzo'] - md['scontato']\n",
    "#CREO LA COLONNA DIFFERENZA PREZZO\n",
    "\n",
    "print(md.shape) #CONTROLLO RIGHE/COLONNE\n",
    "print(md.duplicated().value_counts()) #print per controllare duplicati\n",
    "\n",
    "md.to_csv(\"puliti/melluso.csv\", index=False, encoding=\"utf-8\") \n",
    "#SALVO CSV"
   ]
  },
  {
   "cell_type": "markdown",
   "id": "33a0386f-1d70-4475-bc98-2794c0b35f95",
   "metadata": {},
   "source": [
    "# PULIZIA NEROGIARDINI"
   ]
  },
  {
   "cell_type": "code",
   "execution_count": null,
   "id": "bf4f3906-ec4a-4168-873d-4c2986651060",
   "metadata": {},
   "outputs": [],
   "source": [
    "import numpy as np\n",
    "\n",
    "#CARICO FILE CSV\n",
    "df1= pd.read_csv(\"csv/nerogiardini.csv\")\n",
    "df2 = pd.read_csv(\"csv/nerogiardini_stringate.csv\")\n",
    "ng = pd.concat([df1, df2], ignore_index=True)\n",
    "#ng = pd.read_csv(\"csv/nerogiardini.csv\")\n",
    "\n",
    "# DIZIONARIO CON I COLORI DI NEROGIARDINI\n",
    "mappa_colori = {\n",
    "    195: \"avio\",\n",
    "    9: \"argento\",\n",
    "    14: \"avorio\",\n",
    "    13: \"beige\",\n",
    "    18: \"bianco\",\n",
    "    4: \"blu\",\n",
    "    196: \"celeste\",\n",
    "    8: \"marrone\",\n",
    "    19: \"multicolore\",\n",
    "    5: \"nero\",\n",
    "    10: \"oro\",\n",
    "    12: \"platino\",\n",
    "    15: \"rosa\",\n",
    "    6: \"verde\",\n",
    "    11: \"rosso\",\n",
    "    108: \"fuxia\",\n",
    "    17: \"giallo\",\n",
    "    7: \"grigio\",\n",
    "    16: \"arancione\",\n",
    "    107: \"testa di moro\"\n",
    "}\n",
    "\n",
    "# APPLICHIAMO AL DATAFRAME\n",
    "ng[\"colore_nome\"] = ng[\"colore_codice\"].astype(int).map(mappa_colori)\n",
    "\n",
    "ng['colore'] = ng['colore_nome'] #CREO UN ALTRA COLONNA"
   ]
  },
  {
   "cell_type": "code",
   "execution_count": null,
   "id": "dcf9edde-82a1-4f3c-a5fd-5fdd44a36cb5",
   "metadata": {},
   "outputs": [],
   "source": [
    "# LISTA MATERIALI DA CERCARE\n",
    "materiali = ['pelle', 'camoscio', 'intreccio', 'tessut', 'vernice', 'nabuck', 'scamosciato', 'suede','tecnico']\n",
    "\n",
    "# FUNZIONE PER ESTRARRE\n",
    "def estrai_materiale1(titolo):\n",
    "    for mat in materiali:\n",
    "        if mat in titolo.lower():\n",
    "            return mat\n",
    "    return None  # SE NON TROVA\n",
    "\n",
    "# APPLICA LA FUNZIONE AL DF\n",
    "ng['materiale'] = ng['titolo'].apply(estrai_materiale1)"
   ]
  },
  {
   "cell_type": "code",
   "execution_count": null,
   "id": "fdb9811a-ae85-486a-8f5d-7feb058d869a",
   "metadata": {},
   "outputs": [],
   "source": [
    "# NORMALIZZA PREZZI\n",
    "ng[\"prezzo_originale\"] = ng[\"prezzo_originale\"].str.extract(r'([\\d,.]+)')[0].str.replace(\",\", \".\").astype(float)\n",
    "ng[\"prezzo_scontato\"] = ng[\"prezzo_scontato\"].str.extract(r'([\\d,.]+)')[0].str.replace(\",\", \".\").astype(float)"
   ]
  },
  {
   "cell_type": "code",
   "execution_count": null,
   "id": "46fa2c76-a943-4b79-8a57-aed7c52095ec",
   "metadata": {},
   "outputs": [],
   "source": [
    "#CREO LA COLONNA CON DIFFERENZA PREZZO\n",
    "ng['differenza_prezzo'] = ng['prezzo_scontato'] - ng['prezzo_originale']\n",
    "ng[\"prezzo\"] = ng[\"prezzo_scontato\"] #COLONNA PREZZO\n",
    "ng[\"scontato\"] = ng[\"prezzo_originale\"] #COLONNA SCONTATO\n",
    "ng = ng.drop(columns=[\"link\",\"prezzo_originale\",\"prezzo_scontato\",\"colore_nome\"]) #DROP COLONNE CHE NON SERVONO\n",
    "print(ng.duplicated().value_counts())\n",
    "ng = ng.drop(columns=\"immagine\") #DROP COLONNA IMMAGINE\n",
    "print(ng.shape)"
   ]
  },
  {
   "cell_type": "code",
   "execution_count": null,
   "id": "694c0293-b8f7-4b0b-9bd8-8ee020fd726c",
   "metadata": {},
   "outputs": [],
   "source": [
    "ng.to_csv(\"puliti/nerogiardini.csv\", index=False, encoding=\"utf-8\")"
   ]
  },
  {
   "cell_type": "markdown",
   "id": "1a0ea923-86c6-44ee-9ecf-72d13de0f98c",
   "metadata": {},
   "source": [
    "# PULIZIA IGI&CO"
   ]
  },
  {
   "cell_type": "code",
   "execution_count": null,
   "id": "3de935e3-3db2-4ba8-8b81-98ee7c12bf50",
   "metadata": {},
   "outputs": [],
   "source": [
    "igi = pd.read_csv(\"csv/igi_scraping.csv\")\n",
    "#normalizzazione colonne prezzo\n",
    "\n",
    "# RIMOZIONE SIMBOLI E SPAZI, CAMBIO VIRGOLA IN PUNTO,CONVERSIONE IN FLOAT\n",
    "\n",
    "# NORMALIZZA scontato\n",
    "igi['prezzo_scontato'] = pd.to_numeric(igi['prezzo_scontato'].str.replace(r'[^\\d,]', '', regex=True).str.replace(',', '.', regex=False), errors='coerce')\n",
    "\n",
    "# NORMALIZZA originale\n",
    "igi['prezzo_originale'] = pd.to_numeric(igi['prezzo_originale'].str.replace(r'[^\\d,]', '', regex=True).str.replace(',', '.', regex=False), errors='coerce')"
   ]
  },
  {
   "cell_type": "code",
   "execution_count": null,
   "id": "f0b42b65-5c75-4568-8fa3-6c27bdc68bfd",
   "metadata": {},
   "outputs": [],
   "source": [
    "colori = [\"beige\", \"giallo\", \"verde\", \"celeste\", \"platino\", \"rosa\", \"bianco\", \"nero\", \"blu\", \n",
    "          \"grigio\", \"argento\", \"arancio\", \"rosso\", \"marrone\", \"fuxia\", \"écru\", \"sabbia\", \"panna\", \n",
    "          \"acquamarina\", \"caramel\", \"perla\", \"taupe\", \"ghiaccio\"]\n",
    "    \n",
    "\n",
    "def estrai_colori(titolo):\n",
    "    titolo = str(titolo).lower()\n",
    "    trovati = [col for col in colori if col in titolo]\n",
    "    trovati = trovati[:2]  # Prendi massimo 2 colori\n",
    "    while len(trovati) < 2:\n",
    "        trovati.append(None)\n",
    "    return pd.Series(trovati, index=['colore1', 'colore2'])\n",
    "    \n",
    "# APPLICA LA FUNZIONA\n",
    "igi[['colore1', 'colore2']] = igi['nome'].apply(estrai_colori)"
   ]
  },
  {
   "cell_type": "code",
   "execution_count": null,
   "id": "0c4f85ba-bc71-411b-858b-34be88c0982d",
   "metadata": {},
   "outputs": [],
   "source": [
    "igi[\"nome_categoria\"] = igi[\"nome_categoria\"].str.replace('-', ' ', regex=False)"
   ]
  },
  {
   "cell_type": "code",
   "execution_count": null,
   "id": "2b17945e-e102-4581-b978-870f220888ee",
   "metadata": {},
   "outputs": [],
   "source": [
    "categorie = [\"sandali\",\"stringate\",\"gore-tex\",\"mocassini\",\"slip on\",\n",
    "             \"sneakers\",\"ballerine\",\"sandali\",\"stivaletti\",\"décolleté\",\n",
    "             \"tacco\",\"zeppa\",\"sneakers\"]\n",
    "\n",
    "def estrai_categorie(titolo):\n",
    "    trovati = []\n",
    "    titolo_lower = titolo.lower()\n",
    "    for cat in categorie:\n",
    "        if cat in titolo_lower and cat not in trovati:\n",
    "            trovati.append(cat)\n",
    "        if len(trovati) == 2:\n",
    "            break\n",
    "\n",
    "    # Se le due categorie trovate sono uguali, metti solo la prima e None\n",
    "    if len(trovati) == 2 and trovati[0] == trovati[1]:\n",
    "        trovati[1] = None\n",
    "\n",
    "    # Riempie con None se mancano elementi\n",
    "    while len(trovati) < 2:\n",
    "        trovati.append(None)\n",
    "\n",
    "    return pd.Series(trovati, index=['categoria', 'sottocategoria'])\n",
    "\n",
    "# Applicazione al dataframe\n",
    "igi[['categoria', 'sottocategoria']] = igi['nome'].apply(estrai_categorie)"
   ]
  },
  {
   "cell_type": "code",
   "execution_count": null,
   "id": "41440ed2-f488-46e0-aba2-ce042d4a6a1e",
   "metadata": {},
   "outputs": [],
   "source": [
    "igi.to_csv(\"puliti/igieco_pulito.csv\", index=False, encoding=\"utf-8\")"
   ]
  }
 ],
 "metadata": {
  "kernelspec": {
   "display_name": "Python [conda env:base] *",
   "language": "python",
   "name": "conda-base-py"
  },
  "language_info": {
   "codemirror_mode": {
    "name": "ipython",
    "version": 3
   },
   "file_extension": ".py",
   "mimetype": "text/x-python",
   "name": "python",
   "nbconvert_exporter": "python",
   "pygments_lexer": "ipython3",
   "version": "3.12.7"
  }
 },
 "nbformat": 4,
 "nbformat_minor": 5
}
